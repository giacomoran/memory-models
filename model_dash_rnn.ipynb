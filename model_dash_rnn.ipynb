{
  "cells": [
    {
      "cell_type": "markdown",
      "source": [
        "Install and load required Python packages"
      ],
      "metadata": {
        "id": "SE0VpueixTmu"
      }
    },
    {
      "cell_type": "code",
      "source": [
        "#@title Installation (Python)\n",
        "\n",
        "!pip install -U tensorflow-addons\n",
        "\n",
        "import datetime\n",
        "\n",
        "import numpy as np\n",
        "import pandas as pd\n",
        "\n",
        "import tensorflow as tf\n",
        "from tensorflow import keras\n",
        "from tensorflow.keras import layers\n",
        "import tensorflow_probability as tfp\n",
        "import tensorflow_addons as tfa\n",
        "from keras.preprocessing import sequence\n",
        "from keras import backend as K\n",
        "\n",
        "import matplotlib.pyplot as plt\n",
        "from sklearn.metrics import roc_curve, auc\n",
        "import sklearn.utils.class_weight as sk_cw\n",
        "\n",
        "%load_ext tensorboard\n",
        "%load_ext rpy2.ipython"
      ],
      "metadata": {
        "cellView": "form",
        "id": "-n_1IKSlxbLp"
      },
      "execution_count": null,
      "outputs": []
    },
    {
      "cell_type": "markdown",
      "source": [
        "The R installation might take a few minutes, consider [exporting](https://stackoverflow.com/a/69116838) the installed libraries if you plan to run this notebook more than once."
      ],
      "metadata": {
        "id": "GzlqWCnyz28n"
      }
    },
    {
      "cell_type": "code",
      "source": [
        "%%R\n",
        "#@title Installation (R)\n",
        "\n",
        "install.packages(\"tidymodels\")\n",
        "install.packages(\"gridExtra\")\n",
        "install.packages(\"latex2exp\")\n",
        "devtools::install_github('Mikata-Project/ggthemr')\n",
        "\n",
        "library(tidyverse)\n",
        "library(tidymodels)\n",
        "library(grid)\n",
        "library(gridExtra)\n",
        "library(ggthemr)\n",
        "library(latex2exp)\n",
        "\n",
        "# data_pred is assumed to have the following column:\n",
        "#  - rating: true class labels\n",
        "#  - rating_pred: predicted probability of a GOOD rating\n",
        "metrics_rating_pred <- function(data_pred, ...) {\n",
        "  \n",
        "  auc <- data_pred %>%\n",
        "    mutate(rating_pred = rating_pred) %>%\n",
        "    roc_auc(truth = rating, rating_pred)\n",
        "  \n",
        "  fit_loess <- loess(ratingB ~ rating_pred, \n",
        "                   data=(data_pred %>% mutate(ratingB = ifelse(rating == \"GOOD\", 1, 0))),\n",
        "                   # Frank Harrell recommends turning off outlier detection in\n",
        "                   # loess for binary outcomes (Ch2.4)\n",
        "                   iterations = 1)\n",
        "  pps <- predict(fit_loess, newdata = data_pred$rating_pred)\n",
        "  \n",
        "  ici <- tibble(\n",
        "    .metric = \"ici\",\n",
        "    .estimator = \"binary\",\n",
        "    .estimate = mean(abs(pps - data_pred$rating_pred))\n",
        "  )\n",
        "  \n",
        "  emax <- tibble(\n",
        "    .metric = \"Emax\",\n",
        "    .estimator = \"binary\",\n",
        "    .estimate = max(abs(pps - data_pred$rating_pred))\n",
        "  )\n",
        "  \n",
        "  N <- length(data_pred$rating_pred)\n",
        "  base_rate <- sum(data_pred$rating == \"GOOD\") / length(data_pred$rating_pred)\n",
        "  resolution <- tibble(\n",
        "    .metric = \"resolution\",\n",
        "    .estimator = \"binary\",\n",
        "    .estimate = sum((data_pred$rating_pred - base_rate)^2) / N\n",
        "  )\n",
        "  \n",
        "  bind_rows(\n",
        "    auc,\n",
        "    ici,\n",
        "    emax,\n",
        "    resolution\n",
        "  )\n",
        "  \n",
        "}\n",
        "\n",
        "# See metrics_rating_pred function.\n",
        "# The metrics argument is expected to be the output of metrics_rating_pred.\n",
        "plot_auc_rating_pred <- function(data_pred, name, metrics, ...) {\n",
        "  \n",
        "  auc <- metrics %>%\n",
        "    filter(.metric == \"roc_auc\") %>%\n",
        "    pull(.estimate)\n",
        "  \n",
        "  data_pred %>%\n",
        "    mutate(rating_pred = rating_pred) %>%\n",
        "    roc_curve(rating, rating_pred) %>%\n",
        "    ggplot(aes(x = 1 - specificity, y = sensitivity)) +\n",
        "    geom_path(lwd = 1.5) +\n",
        "    geom_abline(lty = 3) +\n",
        "    coord_equal() + \n",
        "    theme_minimal() +\n",
        "    ggtitle(str_interp(\"${name} - AUC: $[.3f]{auc}\"))\n",
        "  \n",
        "}\n",
        "\n",
        "plot_cal_rating_pred <- function(data_pred, name, metrics, ...) {\n",
        "  \n",
        "  fit_loess <- loess(ratingB ~ rating_pred,\n",
        "                     data=(data_pred %>% mutate(ratingB = ifelse(rating == \"GOOD\", 1, 0))),\n",
        "                     # Frank Harrell recommends turning off outlier detection in\n",
        "                     # loess for binary outcomes (Ch2.4)\n",
        "                     iterations = 1)\n",
        "  \n",
        "  ici <- metrics %>%\n",
        "    filter(.metric == \"ici\") %>%\n",
        "    pull(.estimate)\n",
        "  \n",
        "  emax <- metrics %>%\n",
        "    filter(.metric == \"Emax\") %>%\n",
        "    pull(.estimate)\n",
        "  \n",
        "  # calibration plot\n",
        "  g1 <- data_pred %>%\n",
        "    ggplot(aes(x = rating_pred, y = predict(fit_loess))) +\n",
        "    geom_line(color = \"red\", lwd=1.5) + \n",
        "    scale_y_continuous(limits = c(0, 1), breaks = seq(0, 1, by = 0.1)) +\n",
        "    scale_x_continuous(limits = c(0, 1), breaks = seq(0, 1, by = 0.1)) +\n",
        "    geom_abline() + # 45 degree line indicating perfect calibration\n",
        "    xlab(\"\") +\n",
        "    ylab(\"Observed Probability\") +\n",
        "    theme_minimal() +\n",
        "    ggtitle(str_interp(\"${name} - ICI: $[.3f]{ici}, Emax: $[.3f]{emax}\"))\n",
        "\n",
        "  # distribution plot        \n",
        "  g2 <- data_pred %>%\n",
        "    ggplot(aes(x = rating_pred)) +\n",
        "    geom_histogram(fill = \"black\", bins = 200) +\n",
        "    scale_x_continuous(limits = c(0, 1), breaks = seq(0, 1, by = 0.1)) +\n",
        "    xlab(\"Predicted Probability\") +\n",
        "    ylab(\"\") +\n",
        "    theme_minimal() +\n",
        "    scale_y_continuous(breaks = c(0, 40)) +\n",
        "    theme(panel.grid.minor = element_blank())\n",
        "  \n",
        "  # combine them    \n",
        "  g <- arrangeGrob(g1, g2, respect = TRUE, heights = c(1, 0.25), ncol = 1)\n",
        "  grid.newpage()\n",
        "  grid.draw(g)\n",
        "  return(g[[3]])\n",
        "  \n",
        "}"
      ],
      "metadata": {
        "cellView": "form",
        "id": "LK6lOKVVyBK_"
      },
      "execution_count": null,
      "outputs": []
    },
    {
      "cell_type": "markdown",
      "source": [
        "Load from Github the first preprocessed subsample of the Swift dataset.\n",
        "The Github repo containing the code and data is currently private, therefore you need to fill the form below.\n"
      ],
      "metadata": {
        "id": "oAOKnrDI-nXP"
      }
    },
    {
      "cell_type": "code",
      "source": [
        "# TMP until repo is public\n",
        "# ref: https://stackoverflow.com/a/62509005\n",
        "\n",
        "import requests\n",
        "from io import StringIO\n",
        "\n",
        "#@markdown Generate a Github token: https://github.com/settings/tokens\n",
        "github_username='' #@param {type:\"string\"}\n",
        "github_token=''  #@param {type:\"string\"}\n",
        "\n",
        "github_session = requests.Session()\n",
        "github_session.auth = (github_username, github_token)\n",
        "\n",
        "# providing raw url to download csv from github\n",
        "url_train = 'https://raw.githubusercontent.com/GiacomoRandazzo/memory-models/main/data-swift/1/data_train.csv'\n",
        "url_test = 'https://raw.githubusercontent.com/GiacomoRandazzo/memory-models/main/data-swift/1/data_test.csv'\n",
        "\n",
        "download_train = github_session.get(url_train).content\n",
        "data_train = pd.read_csv(StringIO(download_train.decode('utf-8')))\n",
        "download_test = github_session.get(url_test).content\n",
        "data_test = pd.read_csv(StringIO(download_test.decode('utf-8')))"
      ],
      "metadata": {
        "id": "SxyWJyFgBzsV"
      },
      "execution_count": 3,
      "outputs": []
    },
    {
      "cell_type": "code",
      "source": [
        "data_train.head()"
      ],
      "metadata": {
        "colab": {
          "base_uri": "https://localhost:8080/",
          "height": 206
        },
        "id": "6w2ZwChpBIar",
        "outputId": "9f86fbae-24f2-472f-e921-f31a1c892658"
      },
      "execution_count": 4,
      "outputs": [
        {
          "output_type": "execute_result",
          "data": {
            "text/plain": [
              "   rating  intervalDays                                idUser    idPrompt\n",
              "0       0             4  F5DB05D3-774D-46DF-B49C-5831FE762258  1.1.07-149\n",
              "1       0             2  F5DB05D3-774D-46DF-B49C-5831FE762258  1.1.07-149\n",
              "2       0             1  F5DB05D3-774D-46DF-B49C-5831FE762258  1.1.07-149\n",
              "3       1             1  F5DB05D3-774D-46DF-B49C-5831FE762258  1.1.07-149\n",
              "4       1             1  F5DB05D3-774D-46DF-B49C-5831FE762258  1.1.07-149"
            ],
            "text/html": [
              "\n",
              "  <div id=\"df-22112537-d082-401a-8f62-95563747ccf9\">\n",
              "    <div class=\"colab-df-container\">\n",
              "      <div>\n",
              "<style scoped>\n",
              "    .dataframe tbody tr th:only-of-type {\n",
              "        vertical-align: middle;\n",
              "    }\n",
              "\n",
              "    .dataframe tbody tr th {\n",
              "        vertical-align: top;\n",
              "    }\n",
              "\n",
              "    .dataframe thead th {\n",
              "        text-align: right;\n",
              "    }\n",
              "</style>\n",
              "<table border=\"1\" class=\"dataframe\">\n",
              "  <thead>\n",
              "    <tr style=\"text-align: right;\">\n",
              "      <th></th>\n",
              "      <th>rating</th>\n",
              "      <th>intervalDays</th>\n",
              "      <th>idUser</th>\n",
              "      <th>idPrompt</th>\n",
              "    </tr>\n",
              "  </thead>\n",
              "  <tbody>\n",
              "    <tr>\n",
              "      <th>0</th>\n",
              "      <td>0</td>\n",
              "      <td>4</td>\n",
              "      <td>F5DB05D3-774D-46DF-B49C-5831FE762258</td>\n",
              "      <td>1.1.07-149</td>\n",
              "    </tr>\n",
              "    <tr>\n",
              "      <th>1</th>\n",
              "      <td>0</td>\n",
              "      <td>2</td>\n",
              "      <td>F5DB05D3-774D-46DF-B49C-5831FE762258</td>\n",
              "      <td>1.1.07-149</td>\n",
              "    </tr>\n",
              "    <tr>\n",
              "      <th>2</th>\n",
              "      <td>0</td>\n",
              "      <td>1</td>\n",
              "      <td>F5DB05D3-774D-46DF-B49C-5831FE762258</td>\n",
              "      <td>1.1.07-149</td>\n",
              "    </tr>\n",
              "    <tr>\n",
              "      <th>3</th>\n",
              "      <td>1</td>\n",
              "      <td>1</td>\n",
              "      <td>F5DB05D3-774D-46DF-B49C-5831FE762258</td>\n",
              "      <td>1.1.07-149</td>\n",
              "    </tr>\n",
              "    <tr>\n",
              "      <th>4</th>\n",
              "      <td>1</td>\n",
              "      <td>1</td>\n",
              "      <td>F5DB05D3-774D-46DF-B49C-5831FE762258</td>\n",
              "      <td>1.1.07-149</td>\n",
              "    </tr>\n",
              "  </tbody>\n",
              "</table>\n",
              "</div>\n",
              "      <button class=\"colab-df-convert\" onclick=\"convertToInteractive('df-22112537-d082-401a-8f62-95563747ccf9')\"\n",
              "              title=\"Convert this dataframe to an interactive table.\"\n",
              "              style=\"display:none;\">\n",
              "        \n",
              "  <svg xmlns=\"http://www.w3.org/2000/svg\" height=\"24px\"viewBox=\"0 0 24 24\"\n",
              "       width=\"24px\">\n",
              "    <path d=\"M0 0h24v24H0V0z\" fill=\"none\"/>\n",
              "    <path d=\"M18.56 5.44l.94 2.06.94-2.06 2.06-.94-2.06-.94-.94-2.06-.94 2.06-2.06.94zm-11 1L8.5 8.5l.94-2.06 2.06-.94-2.06-.94L8.5 2.5l-.94 2.06-2.06.94zm10 10l.94 2.06.94-2.06 2.06-.94-2.06-.94-.94-2.06-.94 2.06-2.06.94z\"/><path d=\"M17.41 7.96l-1.37-1.37c-.4-.4-.92-.59-1.43-.59-.52 0-1.04.2-1.43.59L10.3 9.45l-7.72 7.72c-.78.78-.78 2.05 0 2.83L4 21.41c.39.39.9.59 1.41.59.51 0 1.02-.2 1.41-.59l7.78-7.78 2.81-2.81c.8-.78.8-2.07 0-2.86zM5.41 20L4 18.59l7.72-7.72 1.47 1.35L5.41 20z\"/>\n",
              "  </svg>\n",
              "      </button>\n",
              "      \n",
              "  <style>\n",
              "    .colab-df-container {\n",
              "      display:flex;\n",
              "      flex-wrap:wrap;\n",
              "      gap: 12px;\n",
              "    }\n",
              "\n",
              "    .colab-df-convert {\n",
              "      background-color: #E8F0FE;\n",
              "      border: none;\n",
              "      border-radius: 50%;\n",
              "      cursor: pointer;\n",
              "      display: none;\n",
              "      fill: #1967D2;\n",
              "      height: 32px;\n",
              "      padding: 0 0 0 0;\n",
              "      width: 32px;\n",
              "    }\n",
              "\n",
              "    .colab-df-convert:hover {\n",
              "      background-color: #E2EBFA;\n",
              "      box-shadow: 0px 1px 2px rgba(60, 64, 67, 0.3), 0px 1px 3px 1px rgba(60, 64, 67, 0.15);\n",
              "      fill: #174EA6;\n",
              "    }\n",
              "\n",
              "    [theme=dark] .colab-df-convert {\n",
              "      background-color: #3B4455;\n",
              "      fill: #D2E3FC;\n",
              "    }\n",
              "\n",
              "    [theme=dark] .colab-df-convert:hover {\n",
              "      background-color: #434B5C;\n",
              "      box-shadow: 0px 1px 3px 1px rgba(0, 0, 0, 0.15);\n",
              "      filter: drop-shadow(0px 1px 2px rgba(0, 0, 0, 0.3));\n",
              "      fill: #FFFFFF;\n",
              "    }\n",
              "  </style>\n",
              "\n",
              "      <script>\n",
              "        const buttonEl =\n",
              "          document.querySelector('#df-22112537-d082-401a-8f62-95563747ccf9 button.colab-df-convert');\n",
              "        buttonEl.style.display =\n",
              "          google.colab.kernel.accessAllowed ? 'block' : 'none';\n",
              "\n",
              "        async function convertToInteractive(key) {\n",
              "          const element = document.querySelector('#df-22112537-d082-401a-8f62-95563747ccf9');\n",
              "          const dataTable =\n",
              "            await google.colab.kernel.invokeFunction('convertToInteractive',\n",
              "                                                     [key], {});\n",
              "          if (!dataTable) return;\n",
              "\n",
              "          const docLinkHtml = 'Like what you see? Visit the ' +\n",
              "            '<a target=\"_blank\" href=https://colab.research.google.com/notebooks/data_table.ipynb>data table notebook</a>'\n",
              "            + ' to learn more about interactive tables.';\n",
              "          element.innerHTML = '';\n",
              "          dataTable['output_type'] = 'display_data';\n",
              "          await google.colab.output.renderOutput(dataTable, element);\n",
              "          const docLink = document.createElement('div');\n",
              "          docLink.innerHTML = docLinkHtml;\n",
              "          element.appendChild(docLink);\n",
              "        }\n",
              "      </script>\n",
              "    </div>\n",
              "  </div>\n",
              "  "
            ]
          },
          "metadata": {},
          "execution_count": 4
        }
      ]
    },
    {
      "cell_type": "code",
      "source": [
        "data_test.head()"
      ],
      "metadata": {
        "colab": {
          "base_uri": "https://localhost:8080/",
          "height": 206
        },
        "id": "NdeBgZMdCmSz",
        "outputId": "3cc124ba-7e5b-413e-e624-29f4c1439606"
      },
      "execution_count": 5,
      "outputs": [
        {
          "output_type": "execute_result",
          "data": {
            "text/plain": [
              "   rating  intervalDays                                idUser    idPrompt\n",
              "0       1             2  02839E76-A6E1-48E7-A817-13FBC52BCB14  1.1.07-149\n",
              "1       1             3  02839E76-A6E1-48E7-A817-13FBC52BCB14  1.1.07-149\n",
              "2       1             2  02839E76-A6E1-48E7-A817-13FBC52BCB14  1.1.07-149\n",
              "3       1             1  49740A64-594D-49D5-A926-CE16E81705B8  1.2.19-001\n",
              "4       1             6  49740A64-594D-49D5-A926-CE16E81705B8  1.2.19-001"
            ],
            "text/html": [
              "\n",
              "  <div id=\"df-1c14ce45-5ff1-45f1-87a2-032d7419cc47\">\n",
              "    <div class=\"colab-df-container\">\n",
              "      <div>\n",
              "<style scoped>\n",
              "    .dataframe tbody tr th:only-of-type {\n",
              "        vertical-align: middle;\n",
              "    }\n",
              "\n",
              "    .dataframe tbody tr th {\n",
              "        vertical-align: top;\n",
              "    }\n",
              "\n",
              "    .dataframe thead th {\n",
              "        text-align: right;\n",
              "    }\n",
              "</style>\n",
              "<table border=\"1\" class=\"dataframe\">\n",
              "  <thead>\n",
              "    <tr style=\"text-align: right;\">\n",
              "      <th></th>\n",
              "      <th>rating</th>\n",
              "      <th>intervalDays</th>\n",
              "      <th>idUser</th>\n",
              "      <th>idPrompt</th>\n",
              "    </tr>\n",
              "  </thead>\n",
              "  <tbody>\n",
              "    <tr>\n",
              "      <th>0</th>\n",
              "      <td>1</td>\n",
              "      <td>2</td>\n",
              "      <td>02839E76-A6E1-48E7-A817-13FBC52BCB14</td>\n",
              "      <td>1.1.07-149</td>\n",
              "    </tr>\n",
              "    <tr>\n",
              "      <th>1</th>\n",
              "      <td>1</td>\n",
              "      <td>3</td>\n",
              "      <td>02839E76-A6E1-48E7-A817-13FBC52BCB14</td>\n",
              "      <td>1.1.07-149</td>\n",
              "    </tr>\n",
              "    <tr>\n",
              "      <th>2</th>\n",
              "      <td>1</td>\n",
              "      <td>2</td>\n",
              "      <td>02839E76-A6E1-48E7-A817-13FBC52BCB14</td>\n",
              "      <td>1.1.07-149</td>\n",
              "    </tr>\n",
              "    <tr>\n",
              "      <th>3</th>\n",
              "      <td>1</td>\n",
              "      <td>1</td>\n",
              "      <td>49740A64-594D-49D5-A926-CE16E81705B8</td>\n",
              "      <td>1.2.19-001</td>\n",
              "    </tr>\n",
              "    <tr>\n",
              "      <th>4</th>\n",
              "      <td>1</td>\n",
              "      <td>6</td>\n",
              "      <td>49740A64-594D-49D5-A926-CE16E81705B8</td>\n",
              "      <td>1.2.19-001</td>\n",
              "    </tr>\n",
              "  </tbody>\n",
              "</table>\n",
              "</div>\n",
              "      <button class=\"colab-df-convert\" onclick=\"convertToInteractive('df-1c14ce45-5ff1-45f1-87a2-032d7419cc47')\"\n",
              "              title=\"Convert this dataframe to an interactive table.\"\n",
              "              style=\"display:none;\">\n",
              "        \n",
              "  <svg xmlns=\"http://www.w3.org/2000/svg\" height=\"24px\"viewBox=\"0 0 24 24\"\n",
              "       width=\"24px\">\n",
              "    <path d=\"M0 0h24v24H0V0z\" fill=\"none\"/>\n",
              "    <path d=\"M18.56 5.44l.94 2.06.94-2.06 2.06-.94-2.06-.94-.94-2.06-.94 2.06-2.06.94zm-11 1L8.5 8.5l.94-2.06 2.06-.94-2.06-.94L8.5 2.5l-.94 2.06-2.06.94zm10 10l.94 2.06.94-2.06 2.06-.94-2.06-.94-.94-2.06-.94 2.06-2.06.94z\"/><path d=\"M17.41 7.96l-1.37-1.37c-.4-.4-.92-.59-1.43-.59-.52 0-1.04.2-1.43.59L10.3 9.45l-7.72 7.72c-.78.78-.78 2.05 0 2.83L4 21.41c.39.39.9.59 1.41.59.51 0 1.02-.2 1.41-.59l7.78-7.78 2.81-2.81c.8-.78.8-2.07 0-2.86zM5.41 20L4 18.59l7.72-7.72 1.47 1.35L5.41 20z\"/>\n",
              "  </svg>\n",
              "      </button>\n",
              "      \n",
              "  <style>\n",
              "    .colab-df-container {\n",
              "      display:flex;\n",
              "      flex-wrap:wrap;\n",
              "      gap: 12px;\n",
              "    }\n",
              "\n",
              "    .colab-df-convert {\n",
              "      background-color: #E8F0FE;\n",
              "      border: none;\n",
              "      border-radius: 50%;\n",
              "      cursor: pointer;\n",
              "      display: none;\n",
              "      fill: #1967D2;\n",
              "      height: 32px;\n",
              "      padding: 0 0 0 0;\n",
              "      width: 32px;\n",
              "    }\n",
              "\n",
              "    .colab-df-convert:hover {\n",
              "      background-color: #E2EBFA;\n",
              "      box-shadow: 0px 1px 2px rgba(60, 64, 67, 0.3), 0px 1px 3px 1px rgba(60, 64, 67, 0.15);\n",
              "      fill: #174EA6;\n",
              "    }\n",
              "\n",
              "    [theme=dark] .colab-df-convert {\n",
              "      background-color: #3B4455;\n",
              "      fill: #D2E3FC;\n",
              "    }\n",
              "\n",
              "    [theme=dark] .colab-df-convert:hover {\n",
              "      background-color: #434B5C;\n",
              "      box-shadow: 0px 1px 3px 1px rgba(0, 0, 0, 0.15);\n",
              "      filter: drop-shadow(0px 1px 2px rgba(0, 0, 0, 0.3));\n",
              "      fill: #FFFFFF;\n",
              "    }\n",
              "  </style>\n",
              "\n",
              "      <script>\n",
              "        const buttonEl =\n",
              "          document.querySelector('#df-1c14ce45-5ff1-45f1-87a2-032d7419cc47 button.colab-df-convert');\n",
              "        buttonEl.style.display =\n",
              "          google.colab.kernel.accessAllowed ? 'block' : 'none';\n",
              "\n",
              "        async function convertToInteractive(key) {\n",
              "          const element = document.querySelector('#df-1c14ce45-5ff1-45f1-87a2-032d7419cc47');\n",
              "          const dataTable =\n",
              "            await google.colab.kernel.invokeFunction('convertToInteractive',\n",
              "                                                     [key], {});\n",
              "          if (!dataTable) return;\n",
              "\n",
              "          const docLinkHtml = 'Like what you see? Visit the ' +\n",
              "            '<a target=\"_blank\" href=https://colab.research.google.com/notebooks/data_table.ipynb>data table notebook</a>'\n",
              "            + ' to learn more about interactive tables.';\n",
              "          element.innerHTML = '';\n",
              "          dataTable['output_type'] = 'display_data';\n",
              "          await google.colab.output.renderOutput(dataTable, element);\n",
              "          const docLink = document.createElement('div');\n",
              "          docLink.innerHTML = docLinkHtml;\n",
              "          element.appendChild(docLink);\n",
              "        }\n",
              "      </script>\n",
              "    </div>\n",
              "  </div>\n",
              "  "
            ]
          },
          "metadata": {},
          "execution_count": 5
        }
      ]
    },
    {
      "cell_type": "markdown",
      "metadata": {
        "id": "OTAQhUsKOVFX"
      },
      "source": [
        "# DASH[RNN] memory model\n"
      ]
    },
    {
      "cell_type": "markdown",
      "metadata": {
        "id": "QLtiA4hr7M-X"
      },
      "source": [
        "## Prepare train data"
      ]
    },
    {
      "cell_type": "code",
      "source": [
        "data_train['idHistory'] = data_train.groupby(['idUser', 'idPrompt']).ngroup()\n",
        "data_train['isPostLapse'] = data_train.groupby(['idHistory'], group_keys=False).apply(\n",
        "    lambda x: x.rating.apply(lambda y: 1 - y).shift(periods=1, fill_value=0))\n",
        "data_train"
      ],
      "metadata": {
        "colab": {
          "base_uri": "https://localhost:8080/",
          "height": 424
        },
        "id": "6fBhskM0E1kl",
        "outputId": "00775a5b-68dc-4fae-a7e3-391d14d15906"
      },
      "execution_count": 6,
      "outputs": [
        {
          "output_type": "execute_result",
          "data": {
            "text/plain": [
              "       rating  intervalDays                                idUser    idPrompt  \\\n",
              "0           0             4  F5DB05D3-774D-46DF-B49C-5831FE762258  1.1.07-149   \n",
              "1           0             2  F5DB05D3-774D-46DF-B49C-5831FE762258  1.1.07-149   \n",
              "2           0             1  F5DB05D3-774D-46DF-B49C-5831FE762258  1.1.07-149   \n",
              "3           1             1  F5DB05D3-774D-46DF-B49C-5831FE762258  1.1.07-149   \n",
              "4           1             1  F5DB05D3-774D-46DF-B49C-5831FE762258  1.1.07-149   \n",
              "...       ...           ...                                   ...         ...   \n",
              "80411       0             9  9BCB7EBD-EACC-4E5C-8DDC-D4CE53D274D7  2.7.01-123   \n",
              "80412       1             4  9BCB7EBD-EACC-4E5C-8DDC-D4CE53D274D7  2.7.01-123   \n",
              "80413       0             3  9BCB7EBD-EACC-4E5C-8DDC-D4CE53D274D7  2.7.01-123   \n",
              "80414       1             4  9BCB7EBD-EACC-4E5C-8DDC-D4CE53D274D7  2.7.01-123   \n",
              "80415       1            83  9BCB7EBD-EACC-4E5C-8DDC-D4CE53D274D7  2.7.01-123   \n",
              "\n",
              "       idHistory  isPostLapse  \n",
              "0           9777            0  \n",
              "1           9777            1  \n",
              "2           9777            1  \n",
              "3           9777            1  \n",
              "4           9777            0  \n",
              "...          ...          ...  \n",
              "80411       6245            1  \n",
              "80412       6245            1  \n",
              "80413       6245            0  \n",
              "80414       6245            1  \n",
              "80415       6245            0  \n",
              "\n",
              "[80416 rows x 6 columns]"
            ],
            "text/html": [
              "\n",
              "  <div id=\"df-0e92bd3b-25a4-4e2e-bd31-37320792ce1b\">\n",
              "    <div class=\"colab-df-container\">\n",
              "      <div>\n",
              "<style scoped>\n",
              "    .dataframe tbody tr th:only-of-type {\n",
              "        vertical-align: middle;\n",
              "    }\n",
              "\n",
              "    .dataframe tbody tr th {\n",
              "        vertical-align: top;\n",
              "    }\n",
              "\n",
              "    .dataframe thead th {\n",
              "        text-align: right;\n",
              "    }\n",
              "</style>\n",
              "<table border=\"1\" class=\"dataframe\">\n",
              "  <thead>\n",
              "    <tr style=\"text-align: right;\">\n",
              "      <th></th>\n",
              "      <th>rating</th>\n",
              "      <th>intervalDays</th>\n",
              "      <th>idUser</th>\n",
              "      <th>idPrompt</th>\n",
              "      <th>idHistory</th>\n",
              "      <th>isPostLapse</th>\n",
              "    </tr>\n",
              "  </thead>\n",
              "  <tbody>\n",
              "    <tr>\n",
              "      <th>0</th>\n",
              "      <td>0</td>\n",
              "      <td>4</td>\n",
              "      <td>F5DB05D3-774D-46DF-B49C-5831FE762258</td>\n",
              "      <td>1.1.07-149</td>\n",
              "      <td>9777</td>\n",
              "      <td>0</td>\n",
              "    </tr>\n",
              "    <tr>\n",
              "      <th>1</th>\n",
              "      <td>0</td>\n",
              "      <td>2</td>\n",
              "      <td>F5DB05D3-774D-46DF-B49C-5831FE762258</td>\n",
              "      <td>1.1.07-149</td>\n",
              "      <td>9777</td>\n",
              "      <td>1</td>\n",
              "    </tr>\n",
              "    <tr>\n",
              "      <th>2</th>\n",
              "      <td>0</td>\n",
              "      <td>1</td>\n",
              "      <td>F5DB05D3-774D-46DF-B49C-5831FE762258</td>\n",
              "      <td>1.1.07-149</td>\n",
              "      <td>9777</td>\n",
              "      <td>1</td>\n",
              "    </tr>\n",
              "    <tr>\n",
              "      <th>3</th>\n",
              "      <td>1</td>\n",
              "      <td>1</td>\n",
              "      <td>F5DB05D3-774D-46DF-B49C-5831FE762258</td>\n",
              "      <td>1.1.07-149</td>\n",
              "      <td>9777</td>\n",
              "      <td>1</td>\n",
              "    </tr>\n",
              "    <tr>\n",
              "      <th>4</th>\n",
              "      <td>1</td>\n",
              "      <td>1</td>\n",
              "      <td>F5DB05D3-774D-46DF-B49C-5831FE762258</td>\n",
              "      <td>1.1.07-149</td>\n",
              "      <td>9777</td>\n",
              "      <td>0</td>\n",
              "    </tr>\n",
              "    <tr>\n",
              "      <th>...</th>\n",
              "      <td>...</td>\n",
              "      <td>...</td>\n",
              "      <td>...</td>\n",
              "      <td>...</td>\n",
              "      <td>...</td>\n",
              "      <td>...</td>\n",
              "    </tr>\n",
              "    <tr>\n",
              "      <th>80411</th>\n",
              "      <td>0</td>\n",
              "      <td>9</td>\n",
              "      <td>9BCB7EBD-EACC-4E5C-8DDC-D4CE53D274D7</td>\n",
              "      <td>2.7.01-123</td>\n",
              "      <td>6245</td>\n",
              "      <td>1</td>\n",
              "    </tr>\n",
              "    <tr>\n",
              "      <th>80412</th>\n",
              "      <td>1</td>\n",
              "      <td>4</td>\n",
              "      <td>9BCB7EBD-EACC-4E5C-8DDC-D4CE53D274D7</td>\n",
              "      <td>2.7.01-123</td>\n",
              "      <td>6245</td>\n",
              "      <td>1</td>\n",
              "    </tr>\n",
              "    <tr>\n",
              "      <th>80413</th>\n",
              "      <td>0</td>\n",
              "      <td>3</td>\n",
              "      <td>9BCB7EBD-EACC-4E5C-8DDC-D4CE53D274D7</td>\n",
              "      <td>2.7.01-123</td>\n",
              "      <td>6245</td>\n",
              "      <td>0</td>\n",
              "    </tr>\n",
              "    <tr>\n",
              "      <th>80414</th>\n",
              "      <td>1</td>\n",
              "      <td>4</td>\n",
              "      <td>9BCB7EBD-EACC-4E5C-8DDC-D4CE53D274D7</td>\n",
              "      <td>2.7.01-123</td>\n",
              "      <td>6245</td>\n",
              "      <td>1</td>\n",
              "    </tr>\n",
              "    <tr>\n",
              "      <th>80415</th>\n",
              "      <td>1</td>\n",
              "      <td>83</td>\n",
              "      <td>9BCB7EBD-EACC-4E5C-8DDC-D4CE53D274D7</td>\n",
              "      <td>2.7.01-123</td>\n",
              "      <td>6245</td>\n",
              "      <td>0</td>\n",
              "    </tr>\n",
              "  </tbody>\n",
              "</table>\n",
              "<p>80416 rows × 6 columns</p>\n",
              "</div>\n",
              "      <button class=\"colab-df-convert\" onclick=\"convertToInteractive('df-0e92bd3b-25a4-4e2e-bd31-37320792ce1b')\"\n",
              "              title=\"Convert this dataframe to an interactive table.\"\n",
              "              style=\"display:none;\">\n",
              "        \n",
              "  <svg xmlns=\"http://www.w3.org/2000/svg\" height=\"24px\"viewBox=\"0 0 24 24\"\n",
              "       width=\"24px\">\n",
              "    <path d=\"M0 0h24v24H0V0z\" fill=\"none\"/>\n",
              "    <path d=\"M18.56 5.44l.94 2.06.94-2.06 2.06-.94-2.06-.94-.94-2.06-.94 2.06-2.06.94zm-11 1L8.5 8.5l.94-2.06 2.06-.94-2.06-.94L8.5 2.5l-.94 2.06-2.06.94zm10 10l.94 2.06.94-2.06 2.06-.94-2.06-.94-.94-2.06-.94 2.06-2.06.94z\"/><path d=\"M17.41 7.96l-1.37-1.37c-.4-.4-.92-.59-1.43-.59-.52 0-1.04.2-1.43.59L10.3 9.45l-7.72 7.72c-.78.78-.78 2.05 0 2.83L4 21.41c.39.39.9.59 1.41.59.51 0 1.02-.2 1.41-.59l7.78-7.78 2.81-2.81c.8-.78.8-2.07 0-2.86zM5.41 20L4 18.59l7.72-7.72 1.47 1.35L5.41 20z\"/>\n",
              "  </svg>\n",
              "      </button>\n",
              "      \n",
              "  <style>\n",
              "    .colab-df-container {\n",
              "      display:flex;\n",
              "      flex-wrap:wrap;\n",
              "      gap: 12px;\n",
              "    }\n",
              "\n",
              "    .colab-df-convert {\n",
              "      background-color: #E8F0FE;\n",
              "      border: none;\n",
              "      border-radius: 50%;\n",
              "      cursor: pointer;\n",
              "      display: none;\n",
              "      fill: #1967D2;\n",
              "      height: 32px;\n",
              "      padding: 0 0 0 0;\n",
              "      width: 32px;\n",
              "    }\n",
              "\n",
              "    .colab-df-convert:hover {\n",
              "      background-color: #E2EBFA;\n",
              "      box-shadow: 0px 1px 2px rgba(60, 64, 67, 0.3), 0px 1px 3px 1px rgba(60, 64, 67, 0.15);\n",
              "      fill: #174EA6;\n",
              "    }\n",
              "\n",
              "    [theme=dark] .colab-df-convert {\n",
              "      background-color: #3B4455;\n",
              "      fill: #D2E3FC;\n",
              "    }\n",
              "\n",
              "    [theme=dark] .colab-df-convert:hover {\n",
              "      background-color: #434B5C;\n",
              "      box-shadow: 0px 1px 3px 1px rgba(0, 0, 0, 0.15);\n",
              "      filter: drop-shadow(0px 1px 2px rgba(0, 0, 0, 0.3));\n",
              "      fill: #FFFFFF;\n",
              "    }\n",
              "  </style>\n",
              "\n",
              "      <script>\n",
              "        const buttonEl =\n",
              "          document.querySelector('#df-0e92bd3b-25a4-4e2e-bd31-37320792ce1b button.colab-df-convert');\n",
              "        buttonEl.style.display =\n",
              "          google.colab.kernel.accessAllowed ? 'block' : 'none';\n",
              "\n",
              "        async function convertToInteractive(key) {\n",
              "          const element = document.querySelector('#df-0e92bd3b-25a4-4e2e-bd31-37320792ce1b');\n",
              "          const dataTable =\n",
              "            await google.colab.kernel.invokeFunction('convertToInteractive',\n",
              "                                                     [key], {});\n",
              "          if (!dataTable) return;\n",
              "\n",
              "          const docLinkHtml = 'Like what you see? Visit the ' +\n",
              "            '<a target=\"_blank\" href=https://colab.research.google.com/notebooks/data_table.ipynb>data table notebook</a>'\n",
              "            + ' to learn more about interactive tables.';\n",
              "          element.innerHTML = '';\n",
              "          dataTable['output_type'] = 'display_data';\n",
              "          await google.colab.output.renderOutput(dataTable, element);\n",
              "          const docLink = document.createElement('div');\n",
              "          docLink.innerHTML = docLinkHtml;\n",
              "          element.appendChild(docLink);\n",
              "        }\n",
              "      </script>\n",
              "    </div>\n",
              "  </div>\n",
              "  "
            ]
          },
          "metadata": {},
          "execution_count": 6
        }
      ]
    },
    {
      "cell_type": "code",
      "source": [
        "user = data_train[[\"idHistory\", \"idUser\"]].groupby(\"idHistory\").first()\n",
        "x_train_user = user.to_numpy()\n",
        "print(f'x_train_user shape: {np.shape(x_train_user)}')\n",
        "\n",
        "card = data_train[[\"idHistory\", \"idPrompt\"]].groupby(\"idHistory\").first()\n",
        "x_train_card = card.to_numpy()\n",
        "print(f'x_train_card shape: {np.shape(x_train_card)}')"
      ],
      "metadata": {
        "colab": {
          "base_uri": "https://localhost:8080/"
        },
        "id": "1vH4qkc0nMiW",
        "outputId": "fd8f8b6c-ed39-4224-c1cd-aa30d4288381"
      },
      "execution_count": 7,
      "outputs": [
        {
          "output_type": "stream",
          "name": "stdout",
          "text": [
            "x_train_user shape: (10000, 1)\n",
            "x_train_card shape: (10000, 1)\n"
          ]
        }
      ]
    },
    {
      "cell_type": "code",
      "execution_count": 8,
      "metadata": {
        "colab": {
          "base_uri": "https://localhost:8080/"
        },
        "id": "6Ss8cBBG8hqj",
        "outputId": "3d512727-12f8-49b4-ae77-47d6ca338a28"
      },
      "outputs": [
        {
          "output_type": "stream",
          "name": "stdout",
          "text": [
            "Max history length: 62\n",
            "x_train_sequences shape: (10000, 62, 2); y_train shape: (10000, 62, 1)\n",
            "Sequences training set proportion of successful reviews: 0.7861370871468365\n"
          ]
        }
      ],
      "source": [
        "sequences = data_train[[\"idHistory\", \"rating\", \"intervalDays\", \"isPostLapse\"]]\n",
        "\n",
        "sequences_wide = sequences.groupby('idHistory').apply(pd.Series.tolist)\n",
        "\n",
        "np.array([len(x) for x in sequences_wide])\n",
        "max_history_length = np.array([len(x) for x in sequences_wide]).max()\n",
        "print(f'Max history length: {max_history_length}')\n",
        "\n",
        "sequences_wide_np = sequences_wide.to_numpy()\n",
        "\n",
        "# pad data\n",
        "value_pad = -1\n",
        "sequences_wide_np = sequence.pad_sequences(sequences_wide_np, \n",
        "                                            maxlen=max_history_length, \n",
        "                                            padding=\"post\", \n",
        "                                            value=value_pad,\n",
        "                                            dtype='float32')\n",
        "\n",
        "# remove idHistory\n",
        "sequences_wide_np = np.delete(sequences_wide_np, 0, 2)\n",
        "\n",
        "x_train_sequences = np.delete(sequences_wide_np, [0], 2)\n",
        "y_train = np.expand_dims(sequences_wide_np[:,:,0], axis=2)\n",
        "\n",
        "print(f'x_train_sequences shape: {np.shape(x_train_sequences)}; y_train shape: {np.shape(y_train)}')\n",
        "\n",
        "cnt_success = y_train[y_train > -1].sum()\n",
        "cnt_total = len(y_train[y_train > -1])\n",
        "cnt_failure = cnt_total - cnt_success\n",
        "prop_success = cnt_success / cnt_total\n",
        "print(f'Sequences training set proportion of successful reviews: {prop_success}')"
      ]
    },
    {
      "cell_type": "markdown",
      "metadata": {
        "id": "0uhwzuGU1QTl"
      },
      "source": [
        "## Prepare test data"
      ]
    },
    {
      "cell_type": "code",
      "execution_count": 9,
      "metadata": {
        "colab": {
          "base_uri": "https://localhost:8080/",
          "height": 0
        },
        "id": "uKSEfhWXnReN",
        "outputId": "7392a4c3-af61-4971-d4cf-ed850a697fce"
      },
      "outputs": [
        {
          "output_type": "execute_result",
          "data": {
            "text/plain": [
              "       rating  intervalDays                                idUser    idPrompt  \\\n",
              "0           1             2  02839E76-A6E1-48E7-A817-13FBC52BCB14  1.1.07-149   \n",
              "1           1             3  02839E76-A6E1-48E7-A817-13FBC52BCB14  1.1.07-149   \n",
              "2           1             2  02839E76-A6E1-48E7-A817-13FBC52BCB14  1.1.07-149   \n",
              "3           1             1  49740A64-594D-49D5-A926-CE16E81705B8  1.2.19-001   \n",
              "4           1             6  49740A64-594D-49D5-A926-CE16E81705B8  1.2.19-001   \n",
              "...       ...           ...                                   ...         ...   \n",
              "40505       1             1  AE480590-CE72-4344-B329-F59010534E0E  2.1.08-014   \n",
              "40506       1             2  AE480590-CE72-4344-B329-F59010534E0E  2.1.08-014   \n",
              "40507       1             3  AE480590-CE72-4344-B329-F59010534E0E  2.1.08-014   \n",
              "40508       1             4  AE480590-CE72-4344-B329-F59010534E0E  2.1.08-014   \n",
              "40509       0             2  AE480590-CE72-4344-B329-F59010534E0E  2.1.08-014   \n",
              "\n",
              "       idHistory  isPostLapse  \n",
              "0             38            0  \n",
              "1             38            0  \n",
              "2             38            0  \n",
              "3           1180            0  \n",
              "4           1180            0  \n",
              "...          ...          ...  \n",
              "40505       3516            0  \n",
              "40506       3516            0  \n",
              "40507       3516            0  \n",
              "40508       3516            0  \n",
              "40509       3516            0  \n",
              "\n",
              "[40510 rows x 6 columns]"
            ],
            "text/html": [
              "\n",
              "  <div id=\"df-65335bfd-5b68-4dbe-bcfc-6d8099292af7\">\n",
              "    <div class=\"colab-df-container\">\n",
              "      <div>\n",
              "<style scoped>\n",
              "    .dataframe tbody tr th:only-of-type {\n",
              "        vertical-align: middle;\n",
              "    }\n",
              "\n",
              "    .dataframe tbody tr th {\n",
              "        vertical-align: top;\n",
              "    }\n",
              "\n",
              "    .dataframe thead th {\n",
              "        text-align: right;\n",
              "    }\n",
              "</style>\n",
              "<table border=\"1\" class=\"dataframe\">\n",
              "  <thead>\n",
              "    <tr style=\"text-align: right;\">\n",
              "      <th></th>\n",
              "      <th>rating</th>\n",
              "      <th>intervalDays</th>\n",
              "      <th>idUser</th>\n",
              "      <th>idPrompt</th>\n",
              "      <th>idHistory</th>\n",
              "      <th>isPostLapse</th>\n",
              "    </tr>\n",
              "  </thead>\n",
              "  <tbody>\n",
              "    <tr>\n",
              "      <th>0</th>\n",
              "      <td>1</td>\n",
              "      <td>2</td>\n",
              "      <td>02839E76-A6E1-48E7-A817-13FBC52BCB14</td>\n",
              "      <td>1.1.07-149</td>\n",
              "      <td>38</td>\n",
              "      <td>0</td>\n",
              "    </tr>\n",
              "    <tr>\n",
              "      <th>1</th>\n",
              "      <td>1</td>\n",
              "      <td>3</td>\n",
              "      <td>02839E76-A6E1-48E7-A817-13FBC52BCB14</td>\n",
              "      <td>1.1.07-149</td>\n",
              "      <td>38</td>\n",
              "      <td>0</td>\n",
              "    </tr>\n",
              "    <tr>\n",
              "      <th>2</th>\n",
              "      <td>1</td>\n",
              "      <td>2</td>\n",
              "      <td>02839E76-A6E1-48E7-A817-13FBC52BCB14</td>\n",
              "      <td>1.1.07-149</td>\n",
              "      <td>38</td>\n",
              "      <td>0</td>\n",
              "    </tr>\n",
              "    <tr>\n",
              "      <th>3</th>\n",
              "      <td>1</td>\n",
              "      <td>1</td>\n",
              "      <td>49740A64-594D-49D5-A926-CE16E81705B8</td>\n",
              "      <td>1.2.19-001</td>\n",
              "      <td>1180</td>\n",
              "      <td>0</td>\n",
              "    </tr>\n",
              "    <tr>\n",
              "      <th>4</th>\n",
              "      <td>1</td>\n",
              "      <td>6</td>\n",
              "      <td>49740A64-594D-49D5-A926-CE16E81705B8</td>\n",
              "      <td>1.2.19-001</td>\n",
              "      <td>1180</td>\n",
              "      <td>0</td>\n",
              "    </tr>\n",
              "    <tr>\n",
              "      <th>...</th>\n",
              "      <td>...</td>\n",
              "      <td>...</td>\n",
              "      <td>...</td>\n",
              "      <td>...</td>\n",
              "      <td>...</td>\n",
              "      <td>...</td>\n",
              "    </tr>\n",
              "    <tr>\n",
              "      <th>40505</th>\n",
              "      <td>1</td>\n",
              "      <td>1</td>\n",
              "      <td>AE480590-CE72-4344-B329-F59010534E0E</td>\n",
              "      <td>2.1.08-014</td>\n",
              "      <td>3516</td>\n",
              "      <td>0</td>\n",
              "    </tr>\n",
              "    <tr>\n",
              "      <th>40506</th>\n",
              "      <td>1</td>\n",
              "      <td>2</td>\n",
              "      <td>AE480590-CE72-4344-B329-F59010534E0E</td>\n",
              "      <td>2.1.08-014</td>\n",
              "      <td>3516</td>\n",
              "      <td>0</td>\n",
              "    </tr>\n",
              "    <tr>\n",
              "      <th>40507</th>\n",
              "      <td>1</td>\n",
              "      <td>3</td>\n",
              "      <td>AE480590-CE72-4344-B329-F59010534E0E</td>\n",
              "      <td>2.1.08-014</td>\n",
              "      <td>3516</td>\n",
              "      <td>0</td>\n",
              "    </tr>\n",
              "    <tr>\n",
              "      <th>40508</th>\n",
              "      <td>1</td>\n",
              "      <td>4</td>\n",
              "      <td>AE480590-CE72-4344-B329-F59010534E0E</td>\n",
              "      <td>2.1.08-014</td>\n",
              "      <td>3516</td>\n",
              "      <td>0</td>\n",
              "    </tr>\n",
              "    <tr>\n",
              "      <th>40509</th>\n",
              "      <td>0</td>\n",
              "      <td>2</td>\n",
              "      <td>AE480590-CE72-4344-B329-F59010534E0E</td>\n",
              "      <td>2.1.08-014</td>\n",
              "      <td>3516</td>\n",
              "      <td>0</td>\n",
              "    </tr>\n",
              "  </tbody>\n",
              "</table>\n",
              "<p>40510 rows × 6 columns</p>\n",
              "</div>\n",
              "      <button class=\"colab-df-convert\" onclick=\"convertToInteractive('df-65335bfd-5b68-4dbe-bcfc-6d8099292af7')\"\n",
              "              title=\"Convert this dataframe to an interactive table.\"\n",
              "              style=\"display:none;\">\n",
              "        \n",
              "  <svg xmlns=\"http://www.w3.org/2000/svg\" height=\"24px\"viewBox=\"0 0 24 24\"\n",
              "       width=\"24px\">\n",
              "    <path d=\"M0 0h24v24H0V0z\" fill=\"none\"/>\n",
              "    <path d=\"M18.56 5.44l.94 2.06.94-2.06 2.06-.94-2.06-.94-.94-2.06-.94 2.06-2.06.94zm-11 1L8.5 8.5l.94-2.06 2.06-.94-2.06-.94L8.5 2.5l-.94 2.06-2.06.94zm10 10l.94 2.06.94-2.06 2.06-.94-2.06-.94-.94-2.06-.94 2.06-2.06.94z\"/><path d=\"M17.41 7.96l-1.37-1.37c-.4-.4-.92-.59-1.43-.59-.52 0-1.04.2-1.43.59L10.3 9.45l-7.72 7.72c-.78.78-.78 2.05 0 2.83L4 21.41c.39.39.9.59 1.41.59.51 0 1.02-.2 1.41-.59l7.78-7.78 2.81-2.81c.8-.78.8-2.07 0-2.86zM5.41 20L4 18.59l7.72-7.72 1.47 1.35L5.41 20z\"/>\n",
              "  </svg>\n",
              "      </button>\n",
              "      \n",
              "  <style>\n",
              "    .colab-df-container {\n",
              "      display:flex;\n",
              "      flex-wrap:wrap;\n",
              "      gap: 12px;\n",
              "    }\n",
              "\n",
              "    .colab-df-convert {\n",
              "      background-color: #E8F0FE;\n",
              "      border: none;\n",
              "      border-radius: 50%;\n",
              "      cursor: pointer;\n",
              "      display: none;\n",
              "      fill: #1967D2;\n",
              "      height: 32px;\n",
              "      padding: 0 0 0 0;\n",
              "      width: 32px;\n",
              "    }\n",
              "\n",
              "    .colab-df-convert:hover {\n",
              "      background-color: #E2EBFA;\n",
              "      box-shadow: 0px 1px 2px rgba(60, 64, 67, 0.3), 0px 1px 3px 1px rgba(60, 64, 67, 0.15);\n",
              "      fill: #174EA6;\n",
              "    }\n",
              "\n",
              "    [theme=dark] .colab-df-convert {\n",
              "      background-color: #3B4455;\n",
              "      fill: #D2E3FC;\n",
              "    }\n",
              "\n",
              "    [theme=dark] .colab-df-convert:hover {\n",
              "      background-color: #434B5C;\n",
              "      box-shadow: 0px 1px 3px 1px rgba(0, 0, 0, 0.15);\n",
              "      filter: drop-shadow(0px 1px 2px rgba(0, 0, 0, 0.3));\n",
              "      fill: #FFFFFF;\n",
              "    }\n",
              "  </style>\n",
              "\n",
              "      <script>\n",
              "        const buttonEl =\n",
              "          document.querySelector('#df-65335bfd-5b68-4dbe-bcfc-6d8099292af7 button.colab-df-convert');\n",
              "        buttonEl.style.display =\n",
              "          google.colab.kernel.accessAllowed ? 'block' : 'none';\n",
              "\n",
              "        async function convertToInteractive(key) {\n",
              "          const element = document.querySelector('#df-65335bfd-5b68-4dbe-bcfc-6d8099292af7');\n",
              "          const dataTable =\n",
              "            await google.colab.kernel.invokeFunction('convertToInteractive',\n",
              "                                                     [key], {});\n",
              "          if (!dataTable) return;\n",
              "\n",
              "          const docLinkHtml = 'Like what you see? Visit the ' +\n",
              "            '<a target=\"_blank\" href=https://colab.research.google.com/notebooks/data_table.ipynb>data table notebook</a>'\n",
              "            + ' to learn more about interactive tables.';\n",
              "          element.innerHTML = '';\n",
              "          dataTable['output_type'] = 'display_data';\n",
              "          await google.colab.output.renderOutput(dataTable, element);\n",
              "          const docLink = document.createElement('div');\n",
              "          docLink.innerHTML = docLinkHtml;\n",
              "          element.appendChild(docLink);\n",
              "        }\n",
              "      </script>\n",
              "    </div>\n",
              "  </div>\n",
              "  "
            ]
          },
          "metadata": {},
          "execution_count": 9
        }
      ],
      "source": [
        "data_test['idHistory'] = data_test.groupby(['idUser', 'idPrompt']).ngroup()\n",
        "data_test['isPostLapse'] = data_test.groupby(['idHistory'], group_keys=False).apply(\n",
        "    lambda x: x.rating.apply(lambda y: 1 - y).shift(periods=1, fill_value=0))\n",
        "data_test"
      ]
    },
    {
      "cell_type": "code",
      "source": [
        "user = data_test[[\"idHistory\", \"idUser\"]].groupby(\"idHistory\").first()\n",
        "x_test_user = user.to_numpy()\n",
        "print(f'x_test_user shape: {np.shape(x_test_user)}')\n",
        "\n",
        "card = data_test[[\"idHistory\", \"idPrompt\"]].groupby(\"idHistory\").first()\n",
        "x_test_card = card.to_numpy()\n",
        "print(f'x_test_card shape: {np.shape(x_test_card)}')"
      ],
      "metadata": {
        "colab": {
          "base_uri": "https://localhost:8080/"
        },
        "id": "lgTkB5jUoD03",
        "outputId": "2a46aff9-e5b0-4fa7-84db-208940a288c3"
      },
      "execution_count": 10,
      "outputs": [
        {
          "output_type": "stream",
          "name": "stdout",
          "text": [
            "x_test_user shape: (5000, 1)\n",
            "x_test_card shape: (5000, 1)\n"
          ]
        }
      ]
    },
    {
      "cell_type": "code",
      "execution_count": 11,
      "metadata": {
        "colab": {
          "base_uri": "https://localhost:8080/"
        },
        "id": "xaxGQH1x7Ta0",
        "outputId": "d66507ec-5025-4e38-d3ca-a8d16ef9a575"
      },
      "outputs": [
        {
          "output_type": "stream",
          "name": "stdout",
          "text": [
            "x_test_sequences shape: (5000, 62, 2); y_test shape: (5000, 62, 1)\n"
          ]
        }
      ],
      "source": [
        "sequences = data_test[[\"idHistory\", \"rating\", \"intervalDays\", \"isPostLapse\"]]\n",
        "\n",
        "sequences_wide = sequences.groupby('idHistory').apply(pd.Series.tolist)\n",
        "sequences_wide_np = sequences_wide.to_numpy()\n",
        "sequences_wide_np = sequence.pad_sequences(sequences_wide_np, \n",
        "                                            maxlen=max_history_length, \n",
        "                                            padding=\"post\", \n",
        "                                            value=value_pad,\n",
        "                                            dtype='float32')\n",
        "sequences_wide_np = np.delete(sequences_wide_np, 0, 2)\n",
        "\n",
        "x_test_sequences = np.delete(sequences_wide_np, [0], 2)\n",
        "# x_test_sequences = np.delete(sequences_wide_np, [0], 2)\n",
        "y_test = np.expand_dims(sequences_wide_np[:,:,0], axis=2)\n",
        "\n",
        "print(f'x_test_sequences shape: {np.shape(x_test_sequences)}; y_test shape: {np.shape(y_test)}')"
      ]
    },
    {
      "cell_type": "markdown",
      "metadata": {
        "id": "XttCVMCy7VWB"
      },
      "source": [
        "## Define and fit model"
      ]
    },
    {
      "cell_type": "markdown",
      "source": [
        "Set a random seed"
      ],
      "metadata": {
        "id": "KoI0WUR5LhTy"
      }
    },
    {
      "cell_type": "code",
      "execution_count": 12,
      "metadata": {
        "id": "-lj9uK385V4x"
      },
      "outputs": [],
      "source": [
        "np.random.seed(11042022)\n",
        "tf.keras.utils.set_random_seed(11042022)"
      ]
    },
    {
      "cell_type": "markdown",
      "source": [
        "Set the initial value for the bias of the output neuron in order to speed up training"
      ],
      "metadata": {
        "id": "X4KKiWewLjJC"
      }
    },
    {
      "cell_type": "code",
      "execution_count": 13,
      "metadata": {
        "colab": {
          "base_uri": "https://localhost:8080/"
        },
        "id": "Sq0lVVL1RF_z",
        "outputId": "b1b09ca8-aae4-4f08-d1e5-078a8a3ab59b"
      },
      "outputs": [
        {
          "output_type": "stream",
          "name": "stdout",
          "text": [
            "Initial output bias: [1.30179597]; cnt_success: 63218.0; cnt_failure: 17198.0; cnt_total:80416\n"
          ]
        }
      ],
      "source": [
        "output_bias = np.log([cnt_success/cnt_failure])\n",
        "print(f'Initial output bias: {output_bias}; cnt_success: {cnt_success}; cnt_failure: {cnt_failure}; cnt_total:{cnt_total}')"
      ]
    },
    {
      "cell_type": "markdown",
      "source": [
        "Define the DASH[RNN] model"
      ],
      "metadata": {
        "id": "PdPSbFv-LuBH"
      }
    },
    {
      "cell_type": "code",
      "source": [
        "K.clear_session()\n",
        "\n",
        "units_dense = 12\n",
        "units_hidden_state = 5\n",
        "\n",
        "\n",
        "inputs_sequences = layers.Input(shape=(max_history_length, 2), name=\"inputs_sequences\")\n",
        "masked_sequences = layers.Masking(mask_value=value_pad, input_shape=(max_history_length, 2))(inputs_sequences)\n",
        "\n",
        "dense1 = layers.TimeDistributed(layers.Dense(units_dense, activation='relu'))(masked_sequences)\n",
        "dense2 = layers.TimeDistributed(layers.Dense(units_dense, activation='relu'))(dense1)\n",
        "\n",
        "rnn = layers.SimpleRNN(units_hidden_state, activation='relu', return_sequences=True)(dense2)\n",
        "\n",
        "input_user = layers.Input(shape=(1), name=\"input_user\", dtype=\"string\")\n",
        "layer_onehot_user = tf.keras.layers.StringLookup(output_mode='one_hot')\n",
        "layer_onehot_user.adapt(x_train_user)\n",
        "onehot_user = layer_onehot_user(input_user)\n",
        "repeated_onehot_user = layers.RepeatVector(max_history_length.item())(onehot_user)\n",
        "\n",
        "input_card = layers.Input(shape=(1), name=\"input_card\", dtype=\"string\")\n",
        "layer_onehot_card = tf.keras.layers.StringLookup(output_mode='one_hot')\n",
        "layer_onehot_card.adapt(x_train_card)\n",
        "onehot_card = layer_onehot_card(input_card)\n",
        "repeated_onehot_card = layers.RepeatVector(max_history_length.item())(onehot_card)\n",
        "\n",
        "concatenated = layers.concatenate([rnn, repeated_onehot_user, repeated_onehot_card])\n",
        "\n",
        "output = layers.TimeDistributed(layers.Dense(1, activation='sigmoid', bias_initializer=tf.keras.initializers.Constant(output_bias), name=\"sigmoid_out\"))(concatenated)\n",
        "\n",
        "\n",
        "model_0 = keras.Model(inputs=[inputs_sequences, input_user, input_card], outputs=output, name=\"model_r17_simple\")\n",
        "model_0.summary()"
      ],
      "metadata": {
        "colab": {
          "base_uri": "https://localhost:8080/"
        },
        "id": "ZXwUY98woo4A",
        "outputId": "d9161506-2ab3-4a1a-d94d-36a083af66f3"
      },
      "execution_count": 14,
      "outputs": [
        {
          "output_type": "stream",
          "name": "stdout",
          "text": [
            "Model: \"model_r17_simple\"\n",
            "__________________________________________________________________________________________________\n",
            " Layer (type)                   Output Shape         Param #     Connected to                     \n",
            "==================================================================================================\n",
            " inputs_sequences (InputLayer)  [(None, 62, 2)]      0           []                               \n",
            "                                                                                                  \n",
            " masking (Masking)              (None, 62, 2)        0           ['inputs_sequences[0][0]']       \n",
            "                                                                                                  \n",
            " time_distributed (TimeDistribu  (None, 62, 12)      36          ['masking[0][0]']                \n",
            " ted)                                                                                             \n",
            "                                                                                                  \n",
            " input_user (InputLayer)        [(None, 1)]          0           []                               \n",
            "                                                                                                  \n",
            " input_card (InputLayer)        [(None, 1)]          0           []                               \n",
            "                                                                                                  \n",
            " time_distributed_1 (TimeDistri  (None, 62, 12)      156         ['time_distributed[0][0]']       \n",
            " buted)                                                                                           \n",
            "                                                                                                  \n",
            " string_lookup (StringLookup)   (None, 1644)         0           ['input_user[0][0]']             \n",
            "                                                                                                  \n",
            " string_lookup_1 (StringLookup)  (None, 1243)        0           ['input_card[0][0]']             \n",
            "                                                                                                  \n",
            " simple_rnn (SimpleRNN)         (None, 62, 5)        90          ['time_distributed_1[0][0]']     \n",
            "                                                                                                  \n",
            " repeat_vector (RepeatVector)   (None, 62, 1644)     0           ['string_lookup[0][0]']          \n",
            "                                                                                                  \n",
            " repeat_vector_1 (RepeatVector)  (None, 62, 1243)    0           ['string_lookup_1[0][0]']        \n",
            "                                                                                                  \n",
            " concatenate (Concatenate)      (None, 62, 2892)     0           ['simple_rnn[0][0]',             \n",
            "                                                                  'repeat_vector[0][0]',          \n",
            "                                                                  'repeat_vector_1[0][0]']        \n",
            "                                                                                                  \n",
            " time_distributed_2 (TimeDistri  (None, 62, 1)       2893        ['concatenate[0][0]']            \n",
            " buted)                                                                                           \n",
            "                                                                                                  \n",
            "==================================================================================================\n",
            "Total params: 3,175\n",
            "Trainable params: 3,175\n",
            "Non-trainable params: 0\n",
            "__________________________________________________________________________________________________\n"
          ]
        }
      ]
    },
    {
      "cell_type": "code",
      "execution_count": 15,
      "metadata": {
        "colab": {
          "base_uri": "https://localhost:8080/",
          "height": 637
        },
        "id": "_dtTheyzXzQv",
        "outputId": "4a53972f-6286-48b7-dad6-70a099e6a483"
      },
      "outputs": [
        {
          "output_type": "execute_result",
          "data": {
            "text/plain": [
              "<IPython.core.display.Image object>"
            ],
            "image/png": "[encoded data removed]"
          },
          "metadata": {},
          "execution_count": 15
        }
      ],
      "source": [
        "keras.utils.plot_model(model_0)"
      ]
    },
    {
      "cell_type": "markdown",
      "source": [
        "Training parameters"
      ],
      "metadata": {
        "id": "sBrk-PYDL254"
      }
    },
    {
      "cell_type": "code",
      "execution_count": 16,
      "metadata": {
        "id": "EOW0DSP4xyER"
      },
      "outputs": [],
      "source": [
        "EPOCHS = 50\n",
        "BATCH_SIZE = 128\n",
        "\n",
        "INIT_LR = 3e-4\n",
        "MAX_LR = 1e-2"
      ]
    },
    {
      "cell_type": "code",
      "execution_count": 17,
      "metadata": {
        "id": "7CQCJX3bWLnv"
      },
      "outputs": [],
      "source": [
        "def scale_fn(x):\n",
        "  return 1/(2.**(x-1))\n",
        "steps_per_epoch = np.ceil(np.shape(x_train_sequences)[0]/BATCH_SIZE)\n",
        "clr = tfa.optimizers.CyclicalLearningRate(\n",
        "    initial_learning_rate = INIT_LR,\n",
        "    maximal_learning_rate = MAX_LR,\n",
        "    scale_fn = scale_fn,\n",
        "    step_size = 8 * steps_per_epoch\n",
        ")\n",
        "\n",
        "model_0.compile(optimizer = tf.optimizers.Adam(clr),\n",
        "                loss=tf.keras.losses.MeanSquaredError(),\n",
        "                metrics=[tf.keras.metrics.AUC()])\n",
        "\n",
        "log_dir = \"logs/fit/\" + datetime.datetime.now().strftime(\"%Y%m%d-%H%M%S\")\n",
        "tensorboard_callback = tf.keras.callbacks.TensorBoard(log_dir=log_dir, histogram_freq=0)"
      ]
    },
    {
      "cell_type": "markdown",
      "source": [
        "Optionally run TensorBoard"
      ],
      "metadata": {
        "id": "01c5NVYwMIzx"
      }
    },
    {
      "cell_type": "code",
      "execution_count": null,
      "metadata": {
        "id": "BP77OKFOf3ay"
      },
      "outputs": [],
      "source": [
        "%tensorboard --logdir logs/fit/"
      ]
    },
    {
      "cell_type": "markdown",
      "source": [
        "Evaluate pre-training loss"
      ],
      "metadata": {
        "id": "6BEjRPuYMRCo"
      }
    },
    {
      "cell_type": "code",
      "execution_count": 19,
      "metadata": {
        "colab": {
          "base_uri": "https://localhost:8080/"
        },
        "id": "MPga0Z8g_oll",
        "outputId": "b20e4f7a-9fb3-4fc9-85a3-93971d708181"
      },
      "outputs": [
        {
          "output_type": "stream",
          "name": "stdout",
          "text": [
            "Loss: 0.0218\n"
          ]
        }
      ],
      "source": [
        "results_pre = model_0.evaluate([x_train_sequences, x_train_user, x_train_card], y_train, batch_size=128, verbose=0)\n",
        "print(\"Loss: {:0.4f}\".format(results_pre[0]))"
      ]
    },
    {
      "cell_type": "code",
      "execution_count": 20,
      "metadata": {
        "colab": {
          "base_uri": "https://localhost:8080/"
        },
        "id": "jDZFeUH2RVpM",
        "outputId": "60de03f3-4a6e-464b-8e7b-b5de05eec136"
      },
      "outputs": [
        {
          "output_type": "stream",
          "name": "stdout",
          "text": [
            "Epoch 1/50\n",
            "79/79 [==============================] - 13s 141ms/step - loss: 0.0216 - auc: 0.6202\n",
            "Epoch 2/50\n",
            "79/79 [==============================] - 11s 135ms/step - loss: 0.0198 - auc: 0.7731\n",
            "Epoch 3/50\n",
            "79/79 [==============================] - 11s 137ms/step - loss: 0.0168 - auc: 0.8212\n",
            "Epoch 4/50\n",
            "79/79 [==============================] - 11s 142ms/step - loss: 0.0158 - auc: 0.8440\n",
            "Epoch 5/50\n",
            "79/79 [==============================] - 11s 143ms/step - loss: 0.0153 - auc: 0.8529\n",
            "Epoch 6/50\n",
            "79/79 [==============================] - 11s 136ms/step - loss: 0.0151 - auc: 0.8564\n",
            "Epoch 7/50\n",
            "79/79 [==============================] - 11s 137ms/step - loss: 0.0147 - auc: 0.8633\n",
            "Epoch 8/50\n",
            "79/79 [==============================] - 11s 135ms/step - loss: 0.0145 - auc: 0.8665\n",
            "Epoch 9/50\n",
            "79/79 [==============================] - 11s 134ms/step - loss: 0.0143 - auc: 0.8703\n",
            "Epoch 10/50\n",
            "79/79 [==============================] - 11s 136ms/step - loss: 0.0142 - auc: 0.8723\n",
            "Epoch 11/50\n",
            "79/79 [==============================] - 11s 137ms/step - loss: 0.0140 - auc: 0.8756\n",
            "Epoch 12/50\n",
            "79/79 [==============================] - 11s 137ms/step - loss: 0.0139 - auc: 0.8772\n",
            "Epoch 13/50\n",
            "79/79 [==============================] - 11s 137ms/step - loss: 0.0138 - auc: 0.8784\n",
            "Epoch 14/50\n",
            "79/79 [==============================] - 11s 136ms/step - loss: 0.0137 - auc: 0.8792\n",
            "Epoch 15/50\n",
            "79/79 [==============================] - 11s 135ms/step - loss: 0.0137 - auc: 0.8799\n",
            "Epoch 16/50\n",
            "79/79 [==============================] - 11s 138ms/step - loss: 0.0137 - auc: 0.8803\n",
            "Epoch 17/50\n",
            "79/79 [==============================] - 11s 139ms/step - loss: 0.0137 - auc: 0.8805\n",
            "Epoch 18/50\n",
            "79/79 [==============================] - 11s 138ms/step - loss: 0.0137 - auc: 0.8806\n",
            "Epoch 19/50\n",
            "79/79 [==============================] - 11s 138ms/step - loss: 0.0137 - auc: 0.8807\n",
            "Epoch 20/50\n",
            "79/79 [==============================] - 11s 135ms/step - loss: 0.0137 - auc: 0.8808\n",
            "Epoch 21/50\n",
            "79/79 [==============================] - 11s 136ms/step - loss: 0.0136 - auc: 0.8809\n",
            "Epoch 22/50\n",
            "79/79 [==============================] - 11s 137ms/step - loss: 0.0136 - auc: 0.8813\n",
            "Epoch 23/50\n",
            "79/79 [==============================] - 11s 137ms/step - loss: 0.0136 - auc: 0.8814\n",
            "Epoch 24/50\n",
            "79/79 [==============================] - 11s 136ms/step - loss: 0.0136 - auc: 0.8818\n",
            "Epoch 25/50\n",
            "79/79 [==============================] - 11s 137ms/step - loss: 0.0135 - auc: 0.8824\n",
            "Epoch 26/50\n",
            "79/79 [==============================] - 11s 136ms/step - loss: 0.0135 - auc: 0.8827\n",
            "Epoch 27/50\n",
            "79/79 [==============================] - 11s 136ms/step - loss: 0.0135 - auc: 0.8833\n",
            "Epoch 28/50\n",
            "79/79 [==============================] - 11s 136ms/step - loss: 0.0134 - auc: 0.8837\n",
            "Epoch 29/50\n",
            "79/79 [==============================] - 11s 138ms/step - loss: 0.0134 - auc: 0.8840\n",
            "Epoch 30/50\n",
            "79/79 [==============================] - 11s 137ms/step - loss: 0.0134 - auc: 0.8843\n",
            "Epoch 31/50\n",
            "79/79 [==============================] - 11s 135ms/step - loss: 0.0134 - auc: 0.8847\n",
            "Epoch 32/50\n",
            "79/79 [==============================] - 11s 136ms/step - loss: 0.0134 - auc: 0.8848\n",
            "Epoch 33/50\n",
            "79/79 [==============================] - 11s 137ms/step - loss: 0.0134 - auc: 0.8849\n",
            "Epoch 34/50\n",
            "79/79 [==============================] - 11s 139ms/step - loss: 0.0134 - auc: 0.8849\n",
            "Epoch 35/50\n",
            "79/79 [==============================] - 11s 139ms/step - loss: 0.0134 - auc: 0.8848\n",
            "Epoch 36/50\n",
            "79/79 [==============================] - 11s 137ms/step - loss: 0.0134 - auc: 0.8848\n",
            "Epoch 37/50\n",
            "79/79 [==============================] - 11s 135ms/step - loss: 0.0134 - auc: 0.8846\n",
            "Epoch 38/50\n",
            "79/79 [==============================] - 11s 134ms/step - loss: 0.0134 - auc: 0.8851\n",
            "Epoch 39/50\n",
            "79/79 [==============================] - 11s 135ms/step - loss: 0.0134 - auc: 0.8850\n",
            "Epoch 40/50\n",
            "79/79 [==============================] - 11s 136ms/step - loss: 0.0134 - auc: 0.8849\n",
            "Epoch 41/50\n",
            "79/79 [==============================] - 11s 134ms/step - loss: 0.0134 - auc: 0.8851\n",
            "Epoch 42/50\n",
            "79/79 [==============================] - 11s 134ms/step - loss: 0.0133 - auc: 0.8856\n",
            "Epoch 43/50\n",
            "79/79 [==============================] - 11s 135ms/step - loss: 0.0133 - auc: 0.8857\n",
            "Epoch 44/50\n",
            "79/79 [==============================] - 11s 134ms/step - loss: 0.0133 - auc: 0.8858\n",
            "Epoch 45/50\n",
            "79/79 [==============================] - 11s 136ms/step - loss: 0.0133 - auc: 0.8862\n",
            "Epoch 46/50\n",
            "79/79 [==============================] - 11s 135ms/step - loss: 0.0133 - auc: 0.8862\n",
            "Epoch 47/50\n",
            "79/79 [==============================] - 11s 136ms/step - loss: 0.0133 - auc: 0.8863\n",
            "Epoch 48/50\n",
            "79/79 [==============================] - 11s 135ms/step - loss: 0.0133 - auc: 0.8864\n",
            "Epoch 49/50\n",
            "79/79 [==============================] - 11s 136ms/step - loss: 0.0133 - auc: 0.8865\n",
            "Epoch 50/50\n",
            "79/79 [==============================] - 11s 135ms/step - loss: 0.0133 - auc: 0.8865\n"
          ]
        },
        {
          "output_type": "execute_result",
          "data": {
            "text/plain": [
              "<keras.callbacks.History at 0x7f013e439c50>"
            ]
          },
          "metadata": {},
          "execution_count": 20
        }
      ],
      "source": [
        "model_0.fit([x_train_sequences, x_train_user, x_train_card], y_train, \n",
        "            epochs=EPOCHS, \n",
        "            batch_size=BATCH_SIZE,\n",
        "            callbacks=[tensorboard_callback])"
      ]
    },
    {
      "cell_type": "markdown",
      "metadata": {
        "id": "X24uVr2CUTh2"
      },
      "source": [
        "## Evaluation"
      ]
    },
    {
      "cell_type": "code",
      "execution_count": 21,
      "metadata": {
        "colab": {
          "base_uri": "https://localhost:8080/",
          "height": 224
        },
        "id": "9JIb9KPhUn3k",
        "outputId": "17b02ad3-2916-4a69-f66c-de17f39ec478"
      },
      "outputs": [
        {
          "output_type": "stream",
          "name": "stdout",
          "text": [
            "predictions_r shape: (40510,); y_test_r shape: (40510,)\n"
          ]
        },
        {
          "output_type": "execute_result",
          "data": {
            "text/plain": [
              "   rating  rating_pred\n",
              "0     0.0     0.337829\n",
              "1     0.0     0.401319\n",
              "2     0.0     0.449314\n",
              "3     0.0     0.453563\n",
              "4     1.0     0.460967"
            ],
            "text/html": [
              "\n",
              "  <div id=\"df-819a2d70-aff4-4350-9b23-c10002525828\">\n",
              "    <div class=\"colab-df-container\">\n",
              "      <div>\n",
              "<style scoped>\n",
              "    .dataframe tbody tr th:only-of-type {\n",
              "        vertical-align: middle;\n",
              "    }\n",
              "\n",
              "    .dataframe tbody tr th {\n",
              "        vertical-align: top;\n",
              "    }\n",
              "\n",
              "    .dataframe thead th {\n",
              "        text-align: right;\n",
              "    }\n",
              "</style>\n",
              "<table border=\"1\" class=\"dataframe\">\n",
              "  <thead>\n",
              "    <tr style=\"text-align: right;\">\n",
              "      <th></th>\n",
              "      <th>rating</th>\n",
              "      <th>rating_pred</th>\n",
              "    </tr>\n",
              "  </thead>\n",
              "  <tbody>\n",
              "    <tr>\n",
              "      <th>0</th>\n",
              "      <td>0.0</td>\n",
              "      <td>0.337829</td>\n",
              "    </tr>\n",
              "    <tr>\n",
              "      <th>1</th>\n",
              "      <td>0.0</td>\n",
              "      <td>0.401319</td>\n",
              "    </tr>\n",
              "    <tr>\n",
              "      <th>2</th>\n",
              "      <td>0.0</td>\n",
              "      <td>0.449314</td>\n",
              "    </tr>\n",
              "    <tr>\n",
              "      <th>3</th>\n",
              "      <td>0.0</td>\n",
              "      <td>0.453563</td>\n",
              "    </tr>\n",
              "    <tr>\n",
              "      <th>4</th>\n",
              "      <td>1.0</td>\n",
              "      <td>0.460967</td>\n",
              "    </tr>\n",
              "  </tbody>\n",
              "</table>\n",
              "</div>\n",
              "      <button class=\"colab-df-convert\" onclick=\"convertToInteractive('df-819a2d70-aff4-4350-9b23-c10002525828')\"\n",
              "              title=\"Convert this dataframe to an interactive table.\"\n",
              "              style=\"display:none;\">\n",
              "        \n",
              "  <svg xmlns=\"http://www.w3.org/2000/svg\" height=\"24px\"viewBox=\"0 0 24 24\"\n",
              "       width=\"24px\">\n",
              "    <path d=\"M0 0h24v24H0V0z\" fill=\"none\"/>\n",
              "    <path d=\"M18.56 5.44l.94 2.06.94-2.06 2.06-.94-2.06-.94-.94-2.06-.94 2.06-2.06.94zm-11 1L8.5 8.5l.94-2.06 2.06-.94-2.06-.94L8.5 2.5l-.94 2.06-2.06.94zm10 10l.94 2.06.94-2.06 2.06-.94-2.06-.94-.94-2.06-.94 2.06-2.06.94z\"/><path d=\"M17.41 7.96l-1.37-1.37c-.4-.4-.92-.59-1.43-.59-.52 0-1.04.2-1.43.59L10.3 9.45l-7.72 7.72c-.78.78-.78 2.05 0 2.83L4 21.41c.39.39.9.59 1.41.59.51 0 1.02-.2 1.41-.59l7.78-7.78 2.81-2.81c.8-.78.8-2.07 0-2.86zM5.41 20L4 18.59l7.72-7.72 1.47 1.35L5.41 20z\"/>\n",
              "  </svg>\n",
              "      </button>\n",
              "      \n",
              "  <style>\n",
              "    .colab-df-container {\n",
              "      display:flex;\n",
              "      flex-wrap:wrap;\n",
              "      gap: 12px;\n",
              "    }\n",
              "\n",
              "    .colab-df-convert {\n",
              "      background-color: #E8F0FE;\n",
              "      border: none;\n",
              "      border-radius: 50%;\n",
              "      cursor: pointer;\n",
              "      display: none;\n",
              "      fill: #1967D2;\n",
              "      height: 32px;\n",
              "      padding: 0 0 0 0;\n",
              "      width: 32px;\n",
              "    }\n",
              "\n",
              "    .colab-df-convert:hover {\n",
              "      background-color: #E2EBFA;\n",
              "      box-shadow: 0px 1px 2px rgba(60, 64, 67, 0.3), 0px 1px 3px 1px rgba(60, 64, 67, 0.15);\n",
              "      fill: #174EA6;\n",
              "    }\n",
              "\n",
              "    [theme=dark] .colab-df-convert {\n",
              "      background-color: #3B4455;\n",
              "      fill: #D2E3FC;\n",
              "    }\n",
              "\n",
              "    [theme=dark] .colab-df-convert:hover {\n",
              "      background-color: #434B5C;\n",
              "      box-shadow: 0px 1px 3px 1px rgba(0, 0, 0, 0.15);\n",
              "      filter: drop-shadow(0px 1px 2px rgba(0, 0, 0, 0.3));\n",
              "      fill: #FFFFFF;\n",
              "    }\n",
              "  </style>\n",
              "\n",
              "      <script>\n",
              "        const buttonEl =\n",
              "          document.querySelector('#df-819a2d70-aff4-4350-9b23-c10002525828 button.colab-df-convert');\n",
              "        buttonEl.style.display =\n",
              "          google.colab.kernel.accessAllowed ? 'block' : 'none';\n",
              "\n",
              "        async function convertToInteractive(key) {\n",
              "          const element = document.querySelector('#df-819a2d70-aff4-4350-9b23-c10002525828');\n",
              "          const dataTable =\n",
              "            await google.colab.kernel.invokeFunction('convertToInteractive',\n",
              "                                                     [key], {});\n",
              "          if (!dataTable) return;\n",
              "\n",
              "          const docLinkHtml = 'Like what you see? Visit the ' +\n",
              "            '<a target=\"_blank\" href=https://colab.research.google.com/notebooks/data_table.ipynb>data table notebook</a>'\n",
              "            + ' to learn more about interactive tables.';\n",
              "          element.innerHTML = '';\n",
              "          dataTable['output_type'] = 'display_data';\n",
              "          await google.colab.output.renderOutput(dataTable, element);\n",
              "          const docLink = document.createElement('div');\n",
              "          docLink.innerHTML = docLinkHtml;\n",
              "          element.appendChild(docLink);\n",
              "        }\n",
              "      </script>\n",
              "    </div>\n",
              "  </div>\n",
              "  "
            ]
          },
          "metadata": {},
          "execution_count": 21
        }
      ],
      "source": [
        "predictions = model_0.predict([x_test_sequences, x_test_user, x_test_card])\n",
        "\n",
        "predictions_r = predictions[y_test > -1].flatten()\n",
        "y_test_r = y_test[y_test > -1].flatten()\n",
        "\n",
        "print(f'predictions_r shape: {np.shape(predictions_r)}; y_test_r shape: {np.shape(y_test_r)}')\n",
        "\n",
        "np_predictions = np.concatenate((np.array(y_test_r).reshape(-1, 1), predictions_r.reshape(-1, 1)), axis=1)\n",
        "df_predictions = pd.DataFrame(data=np_predictions, columns=[\"rating\", \"rating_pred\"])\n",
        "df_predictions.head()"
      ]
    },
    {
      "cell_type": "code",
      "execution_count": 22,
      "metadata": {
        "colab": {
          "base_uri": "https://localhost:8080/"
        },
        "id": "dIptDJqveY9v",
        "outputId": "eaee20aa-b91f-4126-eb46-36c5c7903ebf"
      },
      "outputs": [
        {
          "output_type": "stream",
          "name": "stdout",
          "text": [
            "# A tibble: 4 × 3\n",
            "  .metric    .estimator .estimate\n",
            "  <chr>      <chr>          <dbl>\n",
            "1 roc_auc    binary       0.867  \n",
            "2 ici        binary       0.00605\n",
            "3 Emax       binary       0.0114 \n",
            "4 resolution binary       0.0573 \n"
          ]
        }
      ],
      "source": [
        "%%R -i df_predictions\n",
        "\n",
        "r_predictions <- df_predictions %>% mutate(rating = factor(ifelse(rating == 1, \"GOOD\", \"AGAIN\"), levels = c(\"GOOD\", \"AGAIN\")))\n",
        "metrics <- metrics_rating_pred(r_predictions)\n",
        "metrics"
      ]
    },
    {
      "cell_type": "code",
      "execution_count": 23,
      "metadata": {
        "id": "r4nprF7ChVDA",
        "colab": {
          "base_uri": "https://localhost:8080/",
          "height": 517
        },
        "outputId": "4a90959c-1e63-4f2f-f69b-19613ed3d36d"
      },
      "outputs": [
        {
          "output_type": "display_data",
          "data": {
            "image/png": "[encoded data removed]"
          },
          "metadata": {}
        }
      ],
      "source": [
        "%%R -i df_predictions -w 5 -h 5 --units in -r 100\n",
        "\n",
        "plot_auc_rating_pred(r_predictions, \"Model 0\", metrics)"
      ]
    },
    {
      "cell_type": "code",
      "execution_count": 24,
      "metadata": {
        "colab": {
          "base_uri": "https://localhost:8080/",
          "height": 535
        },
        "id": "suXxAMHLh4F9",
        "outputId": "29d18b00-2b47-4768-ab2b-930096d3fa9a"
      },
      "outputs": [
        {
          "output_type": "stream",
          "name": "stdout",
          "text": [
            "[1] 1null\n"
          ]
        },
        {
          "output_type": "display_data",
          "data": {
            "image/png": "[encoded data removed]"
          },
          "metadata": {}
        }
      ],
      "source": [
        "%%R -i df_predictions -w 5 -h 5 --units in -r 100\n",
        "\n",
        "plot_cal_rating_pred(r_predictions, \"Model 0\", metrics)"
      ]
    },
    {
      "cell_type": "markdown",
      "source": [
        "## Forgetting curves"
      ],
      "metadata": {
        "id": "q1xoGV_MflQE"
      }
    },
    {
      "cell_type": "code",
      "source": [
        "xs = np.linspace(1., 60., num=1000)\n",
        "\n",
        "u = \"7C0EB3F8-3D9A-42D1-A1B9-2CD762392296\"\n",
        "c = \"2.6.06-213\"\n",
        "\n",
        "x_sequences_11 = sequence.pad_sequences([[ [1.,0], [5.,0], [x,0]] for x in xs], \n",
        "                        maxlen=62, \n",
        "                        padding=\"post\", \n",
        "                        value=-1,\n",
        "                        dtype='float32')\n",
        "\n",
        "x_sequences_01 = sequence.pad_sequences([[ [1.,0], [5.,0], [x,1]] for x in xs], \n",
        "                        maxlen=62, \n",
        "                        padding=\"post\", \n",
        "                        value=-1,\n",
        "                        dtype='float32')\n",
        "\n",
        "x_sequences_10 = sequence.pad_sequences([[ [1.,0], [5.,1], [x,0]] for x in xs], \n",
        "                        maxlen=62, \n",
        "                        padding=\"post\", \n",
        "                        value=-1,\n",
        "                        dtype='float32')\n",
        "\n",
        "x_user = np.array([[u] for _ in range(0, 1000)])\n",
        "x_card = np.array([[c] for _ in range(0, 1000)])\n",
        "\n",
        "preds_11 = model_0.predict([x_sequences_11, x_user, x_card])\n",
        "preds_01 = model_0.predict([x_sequences_01, x_user, x_card])\n",
        "preds_10 = model_0.predict([x_sequences_10, x_user, x_card])\n",
        "\n",
        "ys_11 = preds_11[:, 2:3, :].flatten()\n",
        "ys_01 = preds_01[:, 2:3, :].flatten()\n",
        "ys_10 = preds_10[:, 2:3, :].flatten()\n",
        "\n",
        "df = pd.DataFrame(np.column_stack((xs, ys_11, ys_01, ys_10)), \n",
        "                  columns=[\"xs\", \"ys11\", \"ys01\", \"ys10\"])"
      ],
      "metadata": {
        "id": "LQ_I_Rrsfkto"
      },
      "execution_count": 25,
      "outputs": []
    },
    {
      "cell_type": "code",
      "source": [
        "%%R -i df -w 5 -h 5 --units in -r 100\n",
        "\n",
        "as_tibble(df) %>%\n",
        "  mutate(\n",
        "      xs=as.numeric(xs), \n",
        "      ys11=as.numeric(ys11),\n",
        "      ys10=as.numeric(ys10),\n",
        "      ys01=as.numeric(ys01),\n",
        "  ) %>%\n",
        "  pivot_longer(!xs, names_to = \"fc\", values_to = \"ys\") %>%\n",
        "  ggplot(aes(x = xs, y = ys, col=fc)) +\n",
        "  geom_line(size=1) + \n",
        "  scale_x_continuous(breaks=c(1,7,30,60)) + \n",
        "  ylab(\"p (retrievability)\") + \n",
        "  xlab(TeX(\"$\\\\delta$ (time expressed in days)\")) +\n",
        "  labs(col = TeX(\"$\\\\delta^{(1)} = 1, \\\\delta^{(2)} = 5$\")) +\n",
        "  scale_color_discrete(labels = c(TeX(\"$y^{(1)} = 0, y^{(2)} = 1$\"), TeX(\"$y^{(1)} = 1, y^{(2)} = 0$\"), TeX(\"$y^{(1)} = 1, y^{(2)} = 1$\")))"
      ],
      "metadata": {
        "colab": {
          "base_uri": "https://localhost:8080/",
          "height": 517
        },
        "id": "e71spqaMfxkx",
        "outputId": "93c22f51-d2d8-4445-e816-62f0fe70a2f2"
      },
      "execution_count": 26,
      "outputs": [
        {
          "output_type": "display_data",
          "data": {
            "image/png": "[encoded data removed]"
          },
          "metadata": {}
        }
      ]
    }
  ],
  "metadata": {
    "colab": {
      "collapsed_sections": [
        "QLtiA4hr7M-X",
        "0uhwzuGU1QTl"
      ],
      "name": "model-dashrnn.ipynb",
      "provenance": [],
      "toc_visible": true
    },
    "kernelspec": {
      "display_name": "Python 3",
      "name": "python3"
    },
    "language_info": {
      "name": "python"
    }
  },
  "nbformat": 4,
  "nbformat_minor": 0
}